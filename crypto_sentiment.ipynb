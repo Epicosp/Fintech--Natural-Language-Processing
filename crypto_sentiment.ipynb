{
 "cells": [
  {
   "cell_type": "markdown",
   "metadata": {},
   "source": [
    "# Unit 12 - Tales from the Crypto\n",
    "\n",
    "---\n"
   ]
  },
  {
   "cell_type": "markdown",
   "metadata": {},
   "source": [
    "## 1. Sentiment Analysis\n",
    "\n",
    "Use the [newsapi](https://newsapi.org/) to pull the latest news articles for Bitcoin and Ethereum and create a DataFrame of sentiment scores for each coin.\n",
    "\n",
    "Use descriptive statistics to answer the following questions:\n",
    "1. Which coin had the highest mean positive score?\n",
    "2. Which coin had the highest negative score?\n",
    "3. Which coin had the highest positive score?"
   ]
  },
  {
   "cell_type": "code",
   "execution_count": 1,
   "metadata": {},
   "outputs": [],
   "source": [
    "# Initial imports\n",
    "import os\n",
    "import pandas as pd\n",
    "from pathlib import Path\n",
    "from dotenv import load_dotenv\n",
    "import nltk as nltk\n",
    "from nltk.sentiment.vader import SentimentIntensityAnalyzer\n",
    "from newsapi import NewsApiClient\n",
    "from matplotlib import pyplot as plt"
   ]
  },
  {
   "cell_type": "code",
   "execution_count": 2,
   "metadata": {},
   "outputs": [
    {
     "name": "stderr",
     "output_type": "stream",
     "text": [
      "[nltk_data] Downloading package vader_lexicon to\n",
      "[nltk_data]     /Users/stuartperry/nltk_data...\n",
      "[nltk_data]   Package vader_lexicon is already up-to-date!\n"
     ]
    }
   ],
   "source": [
    "# download lexicon\n",
    "nltk.download('vader_lexicon')\n",
    "\n",
    "# init sentiment analyzer\n",
    "analyzer = SentimentIntensityAnalyzer()"
   ]
  },
  {
   "cell_type": "code",
   "execution_count": 3,
   "metadata": {},
   "outputs": [
    {
     "data": {
      "text/plain": [
       "str"
      ]
     },
     "execution_count": 3,
     "metadata": {},
     "output_type": "execute_result"
    }
   ],
   "source": [
    "# Read your api key environment variable\n",
    "path = Path('/Users/stuartperry/Env_files/API_keys/news_api.env')\n",
    "load_dotenv(path)\n",
    "api_key = os.getenv('NEWS_API_KEY')\n",
    "type(api_key) "
   ]
  },
  {
   "cell_type": "code",
   "execution_count": 4,
   "metadata": {},
   "outputs": [],
   "source": [
    "# Create a newsapi client\n",
    "news_api = NewsApiClient(api_key=api_key)"
   ]
  },
  {
   "cell_type": "code",
   "execution_count": 5,
   "metadata": {},
   "outputs": [],
   "source": [
    "# Fetch the Bitcoin news articles\n",
    "btc_articles = news_api.get_everything(\n",
    "    q='bitcoin, BTC, btc',\n",
    "    language='en',\n",
    "    sort_by='relevancy',\n",
    "    page_size=100\n",
    ")"
   ]
  },
  {
   "cell_type": "code",
   "execution_count": 6,
   "metadata": {},
   "outputs": [],
   "source": [
    "# Fetch the Ethereum news articles\n",
    "eth_articles = news_api.get_everything(\n",
    "    q='ethereum, ETH, eth',\n",
    "    language='en',\n",
    "    sort_by='relevancy',\n",
    "    page_size=100\n",
    ")"
   ]
  },
  {
   "cell_type": "code",
   "execution_count": 7,
   "metadata": {},
   "outputs": [
    {
     "data": {
      "text/plain": [
       "(100, 8)"
      ]
     },
     "execution_count": 7,
     "metadata": {},
     "output_type": "execute_result"
    }
   ],
   "source": [
    "# Create the Bitcoin sentiment scores DataFrame\n",
    "btc_df = pd.DataFrame.from_dict(btc_articles[\"articles\"])\n",
    "btc_df.shape"
   ]
  },
  {
   "cell_type": "code",
   "execution_count": 8,
   "metadata": {},
   "outputs": [
    {
     "data": {
      "text/plain": [
       "(100, 8)"
      ]
     },
     "execution_count": 8,
     "metadata": {},
     "output_type": "execute_result"
    }
   ],
   "source": [
    "# Create the Ethereum sentiment scores DataFrame\n",
    "eth_df = pd.DataFrame.from_dict(eth_articles[\"articles\"])\n",
    "eth_df.shape"
   ]
  },
  {
   "cell_type": "code",
   "execution_count": 9,
   "metadata": {},
   "outputs": [
    {
     "data": {
      "text/html": [
       "<div>\n",
       "<style scoped>\n",
       "    .dataframe tbody tr th:only-of-type {\n",
       "        vertical-align: middle;\n",
       "    }\n",
       "\n",
       "    .dataframe tbody tr th {\n",
       "        vertical-align: top;\n",
       "    }\n",
       "\n",
       "    .dataframe thead th {\n",
       "        text-align: right;\n",
       "    }\n",
       "</style>\n",
       "<table border=\"1\" class=\"dataframe\">\n",
       "  <thead>\n",
       "    <tr style=\"text-align: right;\">\n",
       "      <th></th>\n",
       "      <th>neg</th>\n",
       "      <th>neu</th>\n",
       "      <th>pos</th>\n",
       "      <th>compound</th>\n",
       "    </tr>\n",
       "  </thead>\n",
       "  <tbody>\n",
       "    <tr>\n",
       "      <th>count</th>\n",
       "      <td>100.000000</td>\n",
       "      <td>100.00000</td>\n",
       "      <td>100.000000</td>\n",
       "      <td>100.000000</td>\n",
       "    </tr>\n",
       "    <tr>\n",
       "      <th>mean</th>\n",
       "      <td>0.039920</td>\n",
       "      <td>0.89833</td>\n",
       "      <td>0.061750</td>\n",
       "      <td>0.081996</td>\n",
       "    </tr>\n",
       "    <tr>\n",
       "      <th>std</th>\n",
       "      <td>0.053537</td>\n",
       "      <td>0.07319</td>\n",
       "      <td>0.057697</td>\n",
       "      <td>0.364675</td>\n",
       "    </tr>\n",
       "    <tr>\n",
       "      <th>min</th>\n",
       "      <td>0.000000</td>\n",
       "      <td>0.61400</td>\n",
       "      <td>0.000000</td>\n",
       "      <td>-0.680800</td>\n",
       "    </tr>\n",
       "    <tr>\n",
       "      <th>25%</th>\n",
       "      <td>0.000000</td>\n",
       "      <td>0.86300</td>\n",
       "      <td>0.000000</td>\n",
       "      <td>-0.157050</td>\n",
       "    </tr>\n",
       "    <tr>\n",
       "      <th>50%</th>\n",
       "      <td>0.000000</td>\n",
       "      <td>0.91400</td>\n",
       "      <td>0.052500</td>\n",
       "      <td>0.137850</td>\n",
       "    </tr>\n",
       "    <tr>\n",
       "      <th>75%</th>\n",
       "      <td>0.067250</td>\n",
       "      <td>0.95000</td>\n",
       "      <td>0.083500</td>\n",
       "      <td>0.307000</td>\n",
       "    </tr>\n",
       "    <tr>\n",
       "      <th>max</th>\n",
       "      <td>0.217000</td>\n",
       "      <td>1.00000</td>\n",
       "      <td>0.285000</td>\n",
       "      <td>0.868200</td>\n",
       "    </tr>\n",
       "  </tbody>\n",
       "</table>\n",
       "</div>"
      ],
      "text/plain": [
       "              neg        neu         pos    compound\n",
       "count  100.000000  100.00000  100.000000  100.000000\n",
       "mean     0.039920    0.89833    0.061750    0.081996\n",
       "std      0.053537    0.07319    0.057697    0.364675\n",
       "min      0.000000    0.61400    0.000000   -0.680800\n",
       "25%      0.000000    0.86300    0.000000   -0.157050\n",
       "50%      0.000000    0.91400    0.052500    0.137850\n",
       "75%      0.067250    0.95000    0.083500    0.307000\n",
       "max      0.217000    1.00000    0.285000    0.868200"
      ]
     },
     "execution_count": 9,
     "metadata": {},
     "output_type": "execute_result"
    }
   ],
   "source": [
    "# Describe the Bitcoin Sentiment\n",
    "# apply polarity scores along the text content \n",
    "btc_df['sentiment'] = btc_df['content'].apply(analyzer.polarity_scores)\n",
    "\n",
    "# unpack dict in rows into df\n",
    "btc_sentiment = pd.json_normalize(btc_df['sentiment'])\n",
    "\n",
    "btc_sentiment.describe()"
   ]
  },
  {
   "cell_type": "code",
   "execution_count": 10,
   "metadata": {},
   "outputs": [
    {
     "data": {
      "text/html": [
       "<div>\n",
       "<style scoped>\n",
       "    .dataframe tbody tr th:only-of-type {\n",
       "        vertical-align: middle;\n",
       "    }\n",
       "\n",
       "    .dataframe tbody tr th {\n",
       "        vertical-align: top;\n",
       "    }\n",
       "\n",
       "    .dataframe thead th {\n",
       "        text-align: right;\n",
       "    }\n",
       "</style>\n",
       "<table border=\"1\" class=\"dataframe\">\n",
       "  <thead>\n",
       "    <tr style=\"text-align: right;\">\n",
       "      <th></th>\n",
       "      <th>neg</th>\n",
       "      <th>neu</th>\n",
       "      <th>pos</th>\n",
       "      <th>compound</th>\n",
       "    </tr>\n",
       "  </thead>\n",
       "  <tbody>\n",
       "    <tr>\n",
       "      <th>count</th>\n",
       "      <td>100.000000</td>\n",
       "      <td>100.000000</td>\n",
       "      <td>100.000000</td>\n",
       "      <td>100.000000</td>\n",
       "    </tr>\n",
       "    <tr>\n",
       "      <th>mean</th>\n",
       "      <td>0.032580</td>\n",
       "      <td>0.881250</td>\n",
       "      <td>0.086190</td>\n",
       "      <td>0.208627</td>\n",
       "    </tr>\n",
       "    <tr>\n",
       "      <th>std</th>\n",
       "      <td>0.046563</td>\n",
       "      <td>0.082281</td>\n",
       "      <td>0.078291</td>\n",
       "      <td>0.412814</td>\n",
       "    </tr>\n",
       "    <tr>\n",
       "      <th>min</th>\n",
       "      <td>0.000000</td>\n",
       "      <td>0.635000</td>\n",
       "      <td>0.000000</td>\n",
       "      <td>-0.784500</td>\n",
       "    </tr>\n",
       "    <tr>\n",
       "      <th>25%</th>\n",
       "      <td>0.000000</td>\n",
       "      <td>0.832000</td>\n",
       "      <td>0.000000</td>\n",
       "      <td>0.000000</td>\n",
       "    </tr>\n",
       "    <tr>\n",
       "      <th>50%</th>\n",
       "      <td>0.000000</td>\n",
       "      <td>0.887500</td>\n",
       "      <td>0.073000</td>\n",
       "      <td>0.249850</td>\n",
       "    </tr>\n",
       "    <tr>\n",
       "      <th>75%</th>\n",
       "      <td>0.058000</td>\n",
       "      <td>0.936000</td>\n",
       "      <td>0.133250</td>\n",
       "      <td>0.514625</td>\n",
       "    </tr>\n",
       "    <tr>\n",
       "      <th>max</th>\n",
       "      <td>0.231000</td>\n",
       "      <td>1.000000</td>\n",
       "      <td>0.332000</td>\n",
       "      <td>0.899400</td>\n",
       "    </tr>\n",
       "  </tbody>\n",
       "</table>\n",
       "</div>"
      ],
      "text/plain": [
       "              neg         neu         pos    compound\n",
       "count  100.000000  100.000000  100.000000  100.000000\n",
       "mean     0.032580    0.881250    0.086190    0.208627\n",
       "std      0.046563    0.082281    0.078291    0.412814\n",
       "min      0.000000    0.635000    0.000000   -0.784500\n",
       "25%      0.000000    0.832000    0.000000    0.000000\n",
       "50%      0.000000    0.887500    0.073000    0.249850\n",
       "75%      0.058000    0.936000    0.133250    0.514625\n",
       "max      0.231000    1.000000    0.332000    0.899400"
      ]
     },
     "execution_count": 10,
     "metadata": {},
     "output_type": "execute_result"
    }
   ],
   "source": [
    "# Describe the Ethereum Sentiment\n",
    "# apply polarity scores function along the content column \n",
    "eth_df['sentiment'] = eth_df['content'].apply(analyzer.polarity_scores)\n",
    "\n",
    "# unpack dict in rows into df\n",
    "eth_sentiment = pd.json_normalize(eth_df['sentiment'])\n",
    "\n",
    "eth_sentiment.describe()"
   ]
  },
  {
   "cell_type": "markdown",
   "metadata": {},
   "source": [
    "### Questions:\n",
    "\n",
    "Results from 2022-05-11, using the top 100 most relevant articles \n",
    "\n",
    "Q: Which coin had the highest mean positive score?\n",
    "\n",
    "A: Ethereum has a mean positive score of 0.086 which is slightly higher than bitcoin's mean positive score of 0.062\n",
    "\n",
    "Q: Which coin had the highest compound score?\n",
    "\n",
    "A: Ethereum had the nhighest maximum compounds score 0.899, compared to bitcoin's 0.868\n",
    "\n",
    "Q. Which coin had the highest positive score?\n",
    "\n",
    "A: Ethereum also ends up on top with a maximum positive score of 0.332, when compared to bitcoin's 0.285"
   ]
  },
  {
   "cell_type": "markdown",
   "metadata": {},
   "source": [
    "---"
   ]
  },
  {
   "cell_type": "markdown",
   "metadata": {},
   "source": [
    "## 2. Natural Language Processing\n",
    "---\n",
    "###   Tokenizer\n",
    "\n",
    "In this section, you will use NLTK and Python to tokenize the text for each coin. Be sure to:\n",
    "1. Lowercase each word.\n",
    "2. Remove Punctuation.\n",
    "3. Remove Stopwords."
   ]
  },
  {
   "cell_type": "code",
   "execution_count": 11,
   "metadata": {},
   "outputs": [],
   "source": [
    "from nltk.tokenize import word_tokenize, sent_tokenize\n",
    "from nltk.corpus import stopwords\n",
    "from nltk.stem import WordNetLemmatizer, PorterStemmer\n",
    "from string import punctuation\n",
    "import re"
   ]
  },
  {
   "cell_type": "code",
   "execution_count": 12,
   "metadata": {},
   "outputs": [],
   "source": [
    "# Instantiate the lemmatizer\n",
    "lemmatizer = WordNetLemmatizer()\n",
    "\n",
    "# Create a list of stopwords\n",
    "sw = set(stopwords.words('english'))"
   ]
  },
  {
   "cell_type": "code",
   "execution_count": 14,
   "metadata": {},
   "outputs": [],
   "source": [
    "# Complete the tokenizer function\n",
    "def tokenizer(text):\n",
    "    \"\"\"Tokenizes text.\"\"\"\n",
    "    \n",
    "    # only keep alphabetical characters\n",
    "    regex = re.compile(\"[^a-zA-Z ]\")\n",
    "    no_punct = regex.sub('', text)\n",
    "   \n",
    "    # Create a tokenized list of the words\n",
    "    tokens = word_tokenize(no_punct)\n",
    "\n",
    "    # Lemmatize words into root words, apply lower and filter by stopwords\n",
    "    tokens = [lemmatizer.lemmatize(word.lower()) for word in tokens if word.lower() not in sw]\n",
    "\n",
    "    return tokens"
   ]
  },
  {
   "cell_type": "code",
   "execution_count": 15,
   "metadata": {},
   "outputs": [
    {
     "data": {
      "text/html": [
       "<div>\n",
       "<style scoped>\n",
       "    .dataframe tbody tr th:only-of-type {\n",
       "        vertical-align: middle;\n",
       "    }\n",
       "\n",
       "    .dataframe tbody tr th {\n",
       "        vertical-align: top;\n",
       "    }\n",
       "\n",
       "    .dataframe thead th {\n",
       "        text-align: right;\n",
       "    }\n",
       "</style>\n",
       "<table border=\"1\" class=\"dataframe\">\n",
       "  <thead>\n",
       "    <tr style=\"text-align: right;\">\n",
       "      <th></th>\n",
       "      <th>source</th>\n",
       "      <th>author</th>\n",
       "      <th>title</th>\n",
       "      <th>description</th>\n",
       "      <th>url</th>\n",
       "      <th>urlToImage</th>\n",
       "      <th>publishedAt</th>\n",
       "      <th>content</th>\n",
       "      <th>sentiment</th>\n",
       "      <th>tokens</th>\n",
       "    </tr>\n",
       "  </thead>\n",
       "  <tbody>\n",
       "    <tr>\n",
       "      <th>0</th>\n",
       "      <td>{'id': 'wired', 'name': 'Wired'}</td>\n",
       "      <td>Arielle Pardes</td>\n",
       "      <td>Miami’s Bitcoin Conference Left a Trail of Har...</td>\n",
       "      <td>For some women, inappropriate conduct from oth...</td>\n",
       "      <td>https://www.wired.com/story/bitcoin-2022-confe...</td>\n",
       "      <td>https://media.wired.com/photos/627a89e3e37e715...</td>\n",
       "      <td>2022-05-10T16:59:46Z</td>\n",
       "      <td>Now, even though there are a number of women-f...</td>\n",
       "      <td>{'neg': 0.0, 'neu': 0.964, 'pos': 0.036, 'comp...</td>\n",
       "      <td>[even, though, number, womenfocused, crypto, s...</td>\n",
       "    </tr>\n",
       "    <tr>\n",
       "      <th>1</th>\n",
       "      <td>{'id': None, 'name': 'Bitcoin.com'}</td>\n",
       "      <td>None</td>\n",
       "      <td>Bitcoin, Ethereum Technical Analysis: BTC Slip...</td>\n",
       "      <td>&lt;ol&gt;&lt;li&gt;Bitcoin, Ethereum Technical Analysis: ...</td>\n",
       "      <td>https://news.bitcoin.com/bitcoin-ethereum-tech...</td>\n",
       "      <td>https://static.news.bitcoin.com/wp-content/upl...</td>\n",
       "      <td>2022-05-09T13:45:30Z</td>\n",
       "      <td>BTC fell to its lowest level since last July, ...</td>\n",
       "      <td>{'neg': 0.066, 'neu': 0.859, 'pos': 0.076, 'co...</td>\n",
       "      <td>[btc, fell, lowest, level, since, last, july, ...</td>\n",
       "    </tr>\n",
       "    <tr>\n",
       "      <th>2</th>\n",
       "      <td>{'id': None, 'name': 'Investorplace.com'}</td>\n",
       "      <td>InvestorPlace</td>\n",
       "      <td>3 Reddit Stocks That Could Roar in Q2</td>\n",
       "      <td>The trick to sifting through Reddit stocks is ...</td>\n",
       "      <td>https://investorplace.com/2022/04/3-reddit-sto...</td>\n",
       "      <td>https://images.readwrite.com/wp-content/upload...</td>\n",
       "      <td>2022-04-19T11:01:00Z</td>\n",
       "      <td>&lt;ul&gt;&lt;li&gt;Elon Musk will be able to focus on Tes...</td>\n",
       "      <td>{'neg': 0.0, 'neu': 0.921, 'pos': 0.079, 'comp...</td>\n",
       "      <td>[ullielon, musk, able, focus, onteslatsla, pro...</td>\n",
       "    </tr>\n",
       "    <tr>\n",
       "      <th>3</th>\n",
       "      <td>{'id': 'business-insider', 'name': 'Business I...</td>\n",
       "      <td>prosen@insider.com (Phil Rosen)</td>\n",
       "      <td>10 things before the opening bell</td>\n",
       "      <td>Today we're breaking down why top Wall Street ...</td>\n",
       "      <td>https://www.businessinsider.com/10-things-befo...</td>\n",
       "      <td>https://i.insider.com/6270066486fa90001905ff5d...</td>\n",
       "      <td>2022-05-03T10:00:00Z</td>\n",
       "      <td>Good morning. The combo of hawkish Fed policy ...</td>\n",
       "      <td>{'neg': 0.118, 'neu': 0.713, 'pos': 0.17, 'com...</td>\n",
       "      <td>[good, morning, combo, hawkish, fed, policy, h...</td>\n",
       "    </tr>\n",
       "    <tr>\n",
       "      <th>4</th>\n",
       "      <td>{'id': None, 'name': 'Due.com'}</td>\n",
       "      <td>John Rampton</td>\n",
       "      <td>Protecting Retirement Savings from Volatile Cr...</td>\n",
       "      <td>Did you hear? You may be able to allocate some...</td>\n",
       "      <td>https://due.com/blog/protecting-retirement-sav...</td>\n",
       "      <td>https://assets.entrepreneur.com/providers/due/...</td>\n",
       "      <td>2022-05-09T14:00:04Z</td>\n",
       "      <td>Did you hear? You may be able to allocate some...</td>\n",
       "      <td>{'neg': 0.0, 'neu': 0.955, 'pos': 0.045, 'comp...</td>\n",
       "      <td>[hear, may, able, allocate, k, retirement, sav...</td>\n",
       "    </tr>\n",
       "  </tbody>\n",
       "</table>\n",
       "</div>"
      ],
      "text/plain": [
       "                                              source  \\\n",
       "0                   {'id': 'wired', 'name': 'Wired'}   \n",
       "1                {'id': None, 'name': 'Bitcoin.com'}   \n",
       "2          {'id': None, 'name': 'Investorplace.com'}   \n",
       "3  {'id': 'business-insider', 'name': 'Business I...   \n",
       "4                    {'id': None, 'name': 'Due.com'}   \n",
       "\n",
       "                            author  \\\n",
       "0                   Arielle Pardes   \n",
       "1                             None   \n",
       "2                    InvestorPlace   \n",
       "3  prosen@insider.com (Phil Rosen)   \n",
       "4                     John Rampton   \n",
       "\n",
       "                                               title  \\\n",
       "0  Miami’s Bitcoin Conference Left a Trail of Har...   \n",
       "1  Bitcoin, Ethereum Technical Analysis: BTC Slip...   \n",
       "2              3 Reddit Stocks That Could Roar in Q2   \n",
       "3                  10 things before the opening bell   \n",
       "4  Protecting Retirement Savings from Volatile Cr...   \n",
       "\n",
       "                                         description  \\\n",
       "0  For some women, inappropriate conduct from oth...   \n",
       "1  <ol><li>Bitcoin, Ethereum Technical Analysis: ...   \n",
       "2  The trick to sifting through Reddit stocks is ...   \n",
       "3  Today we're breaking down why top Wall Street ...   \n",
       "4  Did you hear? You may be able to allocate some...   \n",
       "\n",
       "                                                 url  \\\n",
       "0  https://www.wired.com/story/bitcoin-2022-confe...   \n",
       "1  https://news.bitcoin.com/bitcoin-ethereum-tech...   \n",
       "2  https://investorplace.com/2022/04/3-reddit-sto...   \n",
       "3  https://www.businessinsider.com/10-things-befo...   \n",
       "4  https://due.com/blog/protecting-retirement-sav...   \n",
       "\n",
       "                                          urlToImage           publishedAt  \\\n",
       "0  https://media.wired.com/photos/627a89e3e37e715...  2022-05-10T16:59:46Z   \n",
       "1  https://static.news.bitcoin.com/wp-content/upl...  2022-05-09T13:45:30Z   \n",
       "2  https://images.readwrite.com/wp-content/upload...  2022-04-19T11:01:00Z   \n",
       "3  https://i.insider.com/6270066486fa90001905ff5d...  2022-05-03T10:00:00Z   \n",
       "4  https://assets.entrepreneur.com/providers/due/...  2022-05-09T14:00:04Z   \n",
       "\n",
       "                                             content  \\\n",
       "0  Now, even though there are a number of women-f...   \n",
       "1  BTC fell to its lowest level since last July, ...   \n",
       "2  <ul><li>Elon Musk will be able to focus on Tes...   \n",
       "3  Good morning. The combo of hawkish Fed policy ...   \n",
       "4  Did you hear? You may be able to allocate some...   \n",
       "\n",
       "                                           sentiment  \\\n",
       "0  {'neg': 0.0, 'neu': 0.964, 'pos': 0.036, 'comp...   \n",
       "1  {'neg': 0.066, 'neu': 0.859, 'pos': 0.076, 'co...   \n",
       "2  {'neg': 0.0, 'neu': 0.921, 'pos': 0.079, 'comp...   \n",
       "3  {'neg': 0.118, 'neu': 0.713, 'pos': 0.17, 'com...   \n",
       "4  {'neg': 0.0, 'neu': 0.955, 'pos': 0.045, 'comp...   \n",
       "\n",
       "                                              tokens  \n",
       "0  [even, though, number, womenfocused, crypto, s...  \n",
       "1  [btc, fell, lowest, level, since, last, july, ...  \n",
       "2  [ullielon, musk, able, focus, onteslatsla, pro...  \n",
       "3  [good, morning, combo, hawkish, fed, policy, h...  \n",
       "4  [hear, may, able, allocate, k, retirement, sav...  "
      ]
     },
     "execution_count": 15,
     "metadata": {},
     "output_type": "execute_result"
    }
   ],
   "source": [
    "# apply tokenizer along content column, create a new tokens column for Bitcoin\n",
    "btc_df['tokens'] = btc_df['content'].apply(tokenizer)\n",
    "btc_df.head()"
   ]
  },
  {
   "cell_type": "code",
   "execution_count": 16,
   "metadata": {},
   "outputs": [
    {
     "data": {
      "text/html": [
       "<div>\n",
       "<style scoped>\n",
       "    .dataframe tbody tr th:only-of-type {\n",
       "        vertical-align: middle;\n",
       "    }\n",
       "\n",
       "    .dataframe tbody tr th {\n",
       "        vertical-align: top;\n",
       "    }\n",
       "\n",
       "    .dataframe thead th {\n",
       "        text-align: right;\n",
       "    }\n",
       "</style>\n",
       "<table border=\"1\" class=\"dataframe\">\n",
       "  <thead>\n",
       "    <tr style=\"text-align: right;\">\n",
       "      <th></th>\n",
       "      <th>source</th>\n",
       "      <th>author</th>\n",
       "      <th>title</th>\n",
       "      <th>description</th>\n",
       "      <th>url</th>\n",
       "      <th>urlToImage</th>\n",
       "      <th>publishedAt</th>\n",
       "      <th>content</th>\n",
       "      <th>sentiment</th>\n",
       "      <th>tokens</th>\n",
       "    </tr>\n",
       "  </thead>\n",
       "  <tbody>\n",
       "    <tr>\n",
       "      <th>0</th>\n",
       "      <td>{'id': 'the-verge', 'name': 'The Verge'}</td>\n",
       "      <td>Emma Roth</td>\n",
       "      <td>US blames North Korean hacker group for $625 m...</td>\n",
       "      <td>The US Department of Treasury has attributed t...</td>\n",
       "      <td>https://www.theverge.com/2022/4/14/23025739/no...</td>\n",
       "      <td>https://cdn.vox-cdn.com/thumbor/n8TGCqcud7UHPI...</td>\n",
       "      <td>2022-04-14T21:43:57Z</td>\n",
       "      <td>The US Department of Treasury says Lazarus is ...</td>\n",
       "      <td>{'neg': 0.231, 'neu': 0.681, 'pos': 0.088, 'co...</td>\n",
       "      <td>[u, department, treasury, say, lazarus, behind...</td>\n",
       "    </tr>\n",
       "    <tr>\n",
       "      <th>1</th>\n",
       "      <td>{'id': None, 'name': 'Bitcoin.com'}</td>\n",
       "      <td>None</td>\n",
       "      <td>Bitcoin, Ethereum Technical Analysis: BTC Slip...</td>\n",
       "      <td>&lt;ol&gt;&lt;li&gt;Bitcoin, Ethereum Technical Analysis: ...</td>\n",
       "      <td>https://news.bitcoin.com/bitcoin-ethereum-tech...</td>\n",
       "      <td>https://static.news.bitcoin.com/wp-content/upl...</td>\n",
       "      <td>2022-05-09T13:45:30Z</td>\n",
       "      <td>BTC fell to its lowest level since last July, ...</td>\n",
       "      <td>{'neg': 0.066, 'neu': 0.859, 'pos': 0.076, 'co...</td>\n",
       "      <td>[btc, fell, lowest, level, since, last, july, ...</td>\n",
       "    </tr>\n",
       "    <tr>\n",
       "      <th>2</th>\n",
       "      <td>{'id': None, 'name': 'The Guardian'}</td>\n",
       "      <td>Alex Hern</td>\n",
       "      <td>Yuga Labs apologises after sale of virtual lan...</td>\n",
       "      <td>Demand for plots of land in multiplayer game O...</td>\n",
       "      <td>https://amp.theguardian.com/technology/2022/ma...</td>\n",
       "      <td>https://i.guim.co.uk/img/media/e6382b02449503a...</td>\n",
       "      <td>2022-05-02T15:54:35Z</td>\n",
       "      <td>A multi-billion dollar cryptocurrency company ...</td>\n",
       "      <td>{'neg': 0.075, 'neu': 0.879, 'pos': 0.046, 'co...</td>\n",
       "      <td>[multibillion, dollar, cryptocurrency, company...</td>\n",
       "    </tr>\n",
       "    <tr>\n",
       "      <th>3</th>\n",
       "      <td>{'id': None, 'name': 'CNET'}</td>\n",
       "      <td>Daniel Van Boom</td>\n",
       "      <td>How Bored Ape Yacht Club Broke Ethereum - CNET</td>\n",
       "      <td>Transactions stalled for hours, and people pai...</td>\n",
       "      <td>https://www.cnet.com/personal-finance/crypto/h...</td>\n",
       "      <td>https://www.cnet.com/a/img/resize/ec8610207cf7...</td>\n",
       "      <td>2022-05-04T02:32:00Z</td>\n",
       "      <td>When Bored Ape Yacht Club creators Yuga Labs a...</td>\n",
       "      <td>{'neg': 0.055, 'neu': 0.945, 'pos': 0.0, 'comp...</td>\n",
       "      <td>[bored, ape, yacht, club, creator, yuga, lab, ...</td>\n",
       "    </tr>\n",
       "    <tr>\n",
       "      <th>4</th>\n",
       "      <td>{'id': 'the-next-web', 'name': 'The Next Web'}</td>\n",
       "      <td>Ivan Mehta</td>\n",
       "      <td>How the BAYC metaverse mint raised Ethereum ga...</td>\n",
       "      <td>If you ever wanted to buy an NFT based on Ethe...</td>\n",
       "      <td>https://thenextweb.com/news/bayc-metaverse-oth...</td>\n",
       "      <td>https://img-cdn.tnwcdn.com/image/hardfork?filt...</td>\n",
       "      <td>2022-05-02T12:17:07Z</td>\n",
       "      <td>If you ever wanted to buy an NFT based on Ethe...</td>\n",
       "      <td>{'neg': 0.036, 'neu': 0.964, 'pos': 0.0, 'comp...</td>\n",
       "      <td>[ever, wanted, buy, nft, based, ethereum, woul...</td>\n",
       "    </tr>\n",
       "  </tbody>\n",
       "</table>\n",
       "</div>"
      ],
      "text/plain": [
       "                                           source           author  \\\n",
       "0        {'id': 'the-verge', 'name': 'The Verge'}        Emma Roth   \n",
       "1             {'id': None, 'name': 'Bitcoin.com'}             None   \n",
       "2            {'id': None, 'name': 'The Guardian'}        Alex Hern   \n",
       "3                    {'id': None, 'name': 'CNET'}  Daniel Van Boom   \n",
       "4  {'id': 'the-next-web', 'name': 'The Next Web'}       Ivan Mehta   \n",
       "\n",
       "                                               title  \\\n",
       "0  US blames North Korean hacker group for $625 m...   \n",
       "1  Bitcoin, Ethereum Technical Analysis: BTC Slip...   \n",
       "2  Yuga Labs apologises after sale of virtual lan...   \n",
       "3     How Bored Ape Yacht Club Broke Ethereum - CNET   \n",
       "4  How the BAYC metaverse mint raised Ethereum ga...   \n",
       "\n",
       "                                         description  \\\n",
       "0  The US Department of Treasury has attributed t...   \n",
       "1  <ol><li>Bitcoin, Ethereum Technical Analysis: ...   \n",
       "2  Demand for plots of land in multiplayer game O...   \n",
       "3  Transactions stalled for hours, and people pai...   \n",
       "4  If you ever wanted to buy an NFT based on Ethe...   \n",
       "\n",
       "                                                 url  \\\n",
       "0  https://www.theverge.com/2022/4/14/23025739/no...   \n",
       "1  https://news.bitcoin.com/bitcoin-ethereum-tech...   \n",
       "2  https://amp.theguardian.com/technology/2022/ma...   \n",
       "3  https://www.cnet.com/personal-finance/crypto/h...   \n",
       "4  https://thenextweb.com/news/bayc-metaverse-oth...   \n",
       "\n",
       "                                          urlToImage           publishedAt  \\\n",
       "0  https://cdn.vox-cdn.com/thumbor/n8TGCqcud7UHPI...  2022-04-14T21:43:57Z   \n",
       "1  https://static.news.bitcoin.com/wp-content/upl...  2022-05-09T13:45:30Z   \n",
       "2  https://i.guim.co.uk/img/media/e6382b02449503a...  2022-05-02T15:54:35Z   \n",
       "3  https://www.cnet.com/a/img/resize/ec8610207cf7...  2022-05-04T02:32:00Z   \n",
       "4  https://img-cdn.tnwcdn.com/image/hardfork?filt...  2022-05-02T12:17:07Z   \n",
       "\n",
       "                                             content  \\\n",
       "0  The US Department of Treasury says Lazarus is ...   \n",
       "1  BTC fell to its lowest level since last July, ...   \n",
       "2  A multi-billion dollar cryptocurrency company ...   \n",
       "3  When Bored Ape Yacht Club creators Yuga Labs a...   \n",
       "4  If you ever wanted to buy an NFT based on Ethe...   \n",
       "\n",
       "                                           sentiment  \\\n",
       "0  {'neg': 0.231, 'neu': 0.681, 'pos': 0.088, 'co...   \n",
       "1  {'neg': 0.066, 'neu': 0.859, 'pos': 0.076, 'co...   \n",
       "2  {'neg': 0.075, 'neu': 0.879, 'pos': 0.046, 'co...   \n",
       "3  {'neg': 0.055, 'neu': 0.945, 'pos': 0.0, 'comp...   \n",
       "4  {'neg': 0.036, 'neu': 0.964, 'pos': 0.0, 'comp...   \n",
       "\n",
       "                                              tokens  \n",
       "0  [u, department, treasury, say, lazarus, behind...  \n",
       "1  [btc, fell, lowest, level, since, last, july, ...  \n",
       "2  [multibillion, dollar, cryptocurrency, company...  \n",
       "3  [bored, ape, yacht, club, creator, yuga, lab, ...  \n",
       "4  [ever, wanted, buy, nft, based, ethereum, woul...  "
      ]
     },
     "execution_count": 16,
     "metadata": {},
     "output_type": "execute_result"
    }
   ],
   "source": [
    "# apply tokenizer along content column, create a new tokens column for Ethereum\n",
    "eth_df['tokens'] = eth_df['content'].apply(tokenizer)\n",
    "eth_df.head()"
   ]
  },
  {
   "cell_type": "markdown",
   "metadata": {},
   "source": [
    "---"
   ]
  },
  {
   "cell_type": "markdown",
   "metadata": {},
   "source": [
    "### NGrams and Frequency Analysis\n",
    "\n",
    "In this section you will look at the ngrams and word frequency for each coin. \n",
    "\n",
    "1. Use NLTK to produce the n-grams for N = 2. \n",
    "2. List the top 10 words for each coin. "
   ]
  },
  {
   "cell_type": "code",
   "execution_count": 17,
   "metadata": {},
   "outputs": [],
   "source": [
    "from collections import Counter\n",
    "from nltk import ngrams"
   ]
  },
  {
   "cell_type": "code",
   "execution_count": 16,
   "metadata": {},
   "outputs": [],
   "source": [
    "# Generate the Bitcoin N-grams where N=2\n"
   ]
  },
  {
   "cell_type": "code",
   "execution_count": 17,
   "metadata": {},
   "outputs": [],
   "source": [
    "# Generate the Ethereum N-grams where N=2\n",
    "# YOUR CODE HERE!"
   ]
  },
  {
   "cell_type": "code",
   "execution_count": 18,
   "metadata": {},
   "outputs": [],
   "source": [
    "# Function token_count generates the top 10 words for a given coin\n",
    "def token_count(tokens, N=3):\n",
    "    \"\"\"Returns the top N tokens from the frequency count\"\"\"\n",
    "    return Counter(tokens).most_common(N)"
   ]
  },
  {
   "cell_type": "code",
   "execution_count": 19,
   "metadata": {},
   "outputs": [],
   "source": [
    "# Use token_count to get the top 10 words for Bitcoin\n",
    "# YOUR CODE HERE!"
   ]
  },
  {
   "cell_type": "code",
   "execution_count": 20,
   "metadata": {},
   "outputs": [],
   "source": [
    "# Use token_count to get the top 10 words for Ethereum\n",
    "# YOUR CODE HERE!"
   ]
  },
  {
   "cell_type": "markdown",
   "metadata": {},
   "source": [
    "---"
   ]
  },
  {
   "cell_type": "markdown",
   "metadata": {},
   "source": [
    "### Word Clouds\n",
    "\n",
    "In this section, you will generate word clouds for each coin to summarize the news for each coin"
   ]
  },
  {
   "cell_type": "code",
   "execution_count": 21,
   "metadata": {},
   "outputs": [],
   "source": [
    "from wordcloud import WordCloud\n",
    "import matplotlib.pyplot as plt\n",
    "plt.style.use('seaborn-whitegrid')\n",
    "import matplotlib as mpl\n",
    "mpl.rcParams['figure.figsize'] = [20.0, 10.0]"
   ]
  },
  {
   "cell_type": "code",
   "execution_count": 22,
   "metadata": {},
   "outputs": [],
   "source": [
    "# Generate the Bitcoin word cloud\n",
    "# YOUR CODE HERE!"
   ]
  },
  {
   "cell_type": "code",
   "execution_count": 23,
   "metadata": {},
   "outputs": [],
   "source": [
    "# Generate the Ethereum word cloud\n",
    "# YOUR CODE HERE!"
   ]
  },
  {
   "cell_type": "markdown",
   "metadata": {},
   "source": [
    "---\n",
    "## 3. Named Entity Recognition\n",
    "\n",
    "In this section, you will build a named entity recognition model for both Bitcoin and Ethereum, then visualize the tags using SpaCy."
   ]
  },
  {
   "cell_type": "code",
   "execution_count": 24,
   "metadata": {},
   "outputs": [],
   "source": [
    "import spacy\n",
    "from spacy import displacy"
   ]
  },
  {
   "cell_type": "code",
   "execution_count": 25,
   "metadata": {},
   "outputs": [],
   "source": [
    "# Download the language model for SpaCy\n",
    "# !python -m spacy download en_core_web_sm"
   ]
  },
  {
   "cell_type": "code",
   "execution_count": 26,
   "metadata": {},
   "outputs": [],
   "source": [
    "# Load the spaCy model\n",
    "nlp = spacy.load('en_core_web_sm')"
   ]
  },
  {
   "cell_type": "markdown",
   "metadata": {},
   "source": [
    "---\n",
    "### Bitcoin NER"
   ]
  },
  {
   "cell_type": "code",
   "execution_count": 27,
   "metadata": {},
   "outputs": [],
   "source": [
    "# Concatenate all of the Bitcoin text together\n",
    "# YOUR CODE HERE!"
   ]
  },
  {
   "cell_type": "code",
   "execution_count": 28,
   "metadata": {},
   "outputs": [],
   "source": [
    "# Run the NER processor on all of the text\n",
    "# YOUR CODE HERE!\n",
    "\n",
    "# Add a title to the document\n",
    "# YOUR CODE HERE!"
   ]
  },
  {
   "cell_type": "code",
   "execution_count": 29,
   "metadata": {},
   "outputs": [],
   "source": [
    "# Render the visualization\n",
    "# YOUR CODE HERE!"
   ]
  },
  {
   "cell_type": "code",
   "execution_count": 30,
   "metadata": {},
   "outputs": [],
   "source": [
    "# List all Entities\n",
    "# YOUR CODE HERE!"
   ]
  },
  {
   "cell_type": "markdown",
   "metadata": {},
   "source": [
    "---"
   ]
  },
  {
   "cell_type": "markdown",
   "metadata": {},
   "source": [
    "### Ethereum NER"
   ]
  },
  {
   "cell_type": "code",
   "execution_count": 31,
   "metadata": {},
   "outputs": [],
   "source": [
    "# Concatenate all of the Ethereum text together\n",
    "# YOUR CODE HERE!"
   ]
  },
  {
   "cell_type": "code",
   "execution_count": 32,
   "metadata": {},
   "outputs": [],
   "source": [
    "# Run the NER processor on all of the text\n",
    "# YOUR CODE HERE!\n",
    "\n",
    "# Add a title to the document\n",
    "# YOUR CODE HERE!"
   ]
  },
  {
   "cell_type": "code",
   "execution_count": 33,
   "metadata": {},
   "outputs": [],
   "source": [
    "# Render the visualization\n",
    "# YOUR CODE HERE!"
   ]
  },
  {
   "cell_type": "code",
   "execution_count": 34,
   "metadata": {},
   "outputs": [],
   "source": [
    "# List all Entities\n",
    "# YOUR CODE HERE!"
   ]
  },
  {
   "cell_type": "markdown",
   "metadata": {},
   "source": [
    "---"
   ]
  }
 ],
 "metadata": {
  "file_extension": ".py",
  "interpreter": {
   "hash": "097c1c50147d69c70dea14784d774fa19f0c571c55d8af2791c45a24b5968fed"
  },
  "kernelspec": {
   "display_name": "Python 3.7.7 ('dev')",
   "language": "python",
   "name": "python3"
  },
  "language_info": {
   "codemirror_mode": {
    "name": "ipython",
    "version": 3
   },
   "file_extension": ".py",
   "mimetype": "text/x-python",
   "name": "python",
   "nbconvert_exporter": "python",
   "pygments_lexer": "ipython3",
   "version": "3.7.7"
  },
  "mimetype": "text/x-python",
  "name": "python",
  "npconvert_exporter": "python",
  "pygments_lexer": "ipython3",
  "version": 3
 },
 "nbformat": 4,
 "nbformat_minor": 4
}
